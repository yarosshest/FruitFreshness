{
  "cells": [
    {
      "cell_type": "code",
      "execution_count": null,
      "metadata": {
        "id": "0bPnIjPAPVj_"
      },
      "outputs": [],
      "source": [
        "import time\n",
        "import os\n",
        "import random\n",
        "import keras\n",
        "import tensorflow as tf\n",
        "from tensorflow.keras.preprocessing import image\n",
        "import matplotlib.pyplot as plt # Импортируем модуль pyplot библиотеки matplotlib для построения графиков\n",
        "from tensorflow.keras.models import Sequential #Сеть прямого распространения\n",
        "#Базовые слои для счёрточных сетей\n",
        "from tensorflow.keras.layers import Dense, Conv2D, MaxPooling2D, Flatten, Dropout, BatchNormalization\n",
        "from keras.preprocessing.image import ImageDataGenerator"
      ]
    },
    {
      "cell_type": "markdown",
      "metadata": {
        "id": "W4FcAKyGWD_K"
      },
      "source": [
        "# Загрузка картинок\n"
      ]
    },
    {
      "cell_type": "markdown",
      "source": [
        "## С диска "
      ],
      "metadata": {
        "id": "Ai4GTJh0Hzsm"
      }
    },
    {
      "cell_type": "code",
      "execution_count": null,
      "metadata": {
        "colab": {
          "base_uri": "https://localhost:8080/"
        },
        "id": "0hHo-H_hWF3z",
        "outputId": "a3139324-9acd-4c51-c7dd-aaa71eb2c7f1"
      },
      "outputs": [
        {
          "output_type": "stream",
          "name": "stdout",
          "text": [
            "Mounted at /content/drive\n"
          ]
        }
      ],
      "source": [
        "from google.colab import drive # Подключаем гугл-диск\n",
        "drive.mount('/content/drive')"
      ]
    },
    {
      "cell_type": "code",
      "execution_count": null,
      "metadata": {
        "id": "bie9EP0HWHzv"
      },
      "outputs": [],
      "source": [
        "directory = '/content/drive/My Drive/neural university/Проект/' # Указываем путь к обучающей выборке с оригинальными изображения\n",
        "train_directory = directory +  'dataset/train/' # Название папки с файлами обучающей выборки\n",
        "test_directory = directory + 'dataset/test/' # Название папки с файлами проверочной выборки"
      ]
    },
    {
      "cell_type": "markdown",
      "source": [
        "## Локально"
      ],
      "metadata": {
        "id": "C3y4Eo3wH28N"
      }
    },
    {
      "cell_type": "code",
      "source": [
        "directory = 'F:/projectFroot/' # Указываем путь к обучающей выборке с оригинальными изображения\n",
        "train_directory = directory +  'dataset/train/' # Название папки с файлами обучающей выборки\n",
        "test_directory = directory + 'dataset/test/' # Название папки с файлами проверочной выборки"
      ],
      "metadata": {
        "id": "B0HGU3mCIbeW"
      },
      "execution_count": null,
      "outputs": []
    },
    {
      "cell_type": "markdown",
      "source": [
        "#Создание выборки"
      ],
      "metadata": {
        "id": "hrDYDCweIOJL"
      }
    },
    {
      "cell_type": "code",
      "execution_count": null,
      "metadata": {
        "id": "OQCngyKHklvN"
      },
      "outputs": [],
      "source": [
        "img_width = 300 # Ширина уменьшенной картинки \n",
        "img_height = 300 # Высота уменьшенной картинки \n",
        "batch_size = 10\n",
        "\n",
        "datagen = ImageDataGenerator(\n",
        "    rescale=1. / 255, #Значения цвета меняем на дробные показания\n",
        "    rotation_range=10, #Поворачиваем изображения при генерации выборки\n",
        "    width_shift_range=0.1, #Двигаем изображения по ширине при генерации выборки\n",
        "    height_shift_range=0.1, #Двигаем изображения по высоте при генерации выборки\n",
        "    zoom_range=0.1, #Зумируем изображения при генерации выборки\n",
        "    horizontal_flip=True, #Включаем отзеркаливание изображений\n",
        "    fill_mode='nearest', #Заполнение пикселей вне границ ввода\n",
        "    validation_split=0.2 #Указываем разделение изображений на обучающую и тестовую выборку\n",
        ")"
      ]
    },
    {
      "cell_type": "code",
      "execution_count": null,
      "metadata": {
        "colab": {
          "base_uri": "https://localhost:8080/"
        },
        "id": "3GIjYtAQlhUl",
        "outputId": "7401a29b-2370-47ad-b545-47b79a1447da"
      },
      "outputs": [
        {
          "output_type": "stream",
          "name": "stdout",
          "text": [
            "Found 8721 images belonging to 2 classes.\n",
            "Found 538 images belonging to 2 classes.\n"
          ]
        }
      ],
      "source": [
        "train_generator = datagen.flow_from_directory(\n",
        "    train_directory, #Путь ко всей выборке выборке\n",
        "    target_size=(img_width, img_height), #Размер изображений\n",
        "    batch_size=batch_size, #Размер batch_size\n",
        "    class_mode='categorical', #Категориальный тип выборки. \n",
        "    shuffle=True, #Перемешивание выборки\n",
        "    subset='training' # устанавливаем как набор для обучения\n",
        ")\n",
        "\n",
        "# проверочная выборка\n",
        "validation_generator = datagen.flow_from_directory(\n",
        "    test_directory, #Путь ко всей выборке выборке\n",
        "    target_size=(img_width, img_height), #Размер изображений\n",
        "    batch_size=batch_size, #Размер batch_size\n",
        "    class_mode='categorical', #Категориальный тип выборки.\n",
        "    shuffle=True, #Перемешивание выборки\n",
        "    subset='validation' # устанавливаем как валидационный набор\n",
        ")"
      ]
    },
    {
      "cell_type": "markdown",
      "metadata": {
        "id": "MkJeBvu8WM6b"
      },
      "source": [
        "#Сверточная нейронная сеть"
      ]
    },
    {
      "cell_type": "code",
      "execution_count": null,
      "metadata": {
        "id": "6aNshPfKWTXL"
      },
      "outputs": [],
      "source": [
        "class Мodel:\n",
        "  def __init__(self):\n",
        "    model = Sequential()\n",
        "    model.add(Conv2D(16, (3, 3), padding='same', activation='relu', input_shape=(img_width, img_height, 3)))\n",
        "    model.add(MaxPooling2D(pool_size=(3, 3)))\n",
        "    model.add(Conv2D(8, (3, 3), padding='same', activation='relu'))\n",
        "    model.add(MaxPooling2D(pool_size=(3, 3)))\n",
        "    model.add(Conv2D(4, (3, 3), padding='same', activation='relu'))\n",
        "    model.add(Flatten())\n",
        "    model.add(Dense(32, activation='relu'))\n",
        "    model.add(Dropout(0.25))\n",
        "    model.add(Dense(2, activation='softmax'))\n",
        "    model.compile(loss=\"categorical_crossentropy\", optimizer=tf.keras.optimizers.Adam(learning_rate=1e-3), metrics=[\"accuracy\"])\n",
        "    self.model = model\n"
      ]
    },
    {
      "cell_type": "code",
      "execution_count": null,
      "metadata": {
        "colab": {
          "base_uri": "https://localhost:8080/"
        },
        "id": "6G-LIsScYLjO",
        "outputId": "1592cd45-f9be-4304-85a2-d7e3221d9dc9"
      },
      "outputs": [
        {
          "output_type": "stream",
          "name": "stdout",
          "text": [
            "Epoch 1/20\n",
            "873/873 [==============================] - 224s 256ms/step - loss: 0.5276 - accuracy: 0.7161 - val_loss: 0.4046 - val_accuracy: 0.8271\n",
            "Epoch 2/20\n",
            "873/873 [==============================] - 200s 229ms/step - loss: 0.3235 - accuracy: 0.8666 - val_loss: 0.2378 - val_accuracy: 0.9052\n",
            "Epoch 3/20\n",
            "873/873 [==============================] - 199s 228ms/step - loss: 0.2647 - accuracy: 0.8953 - val_loss: 0.2436 - val_accuracy: 0.8959\n",
            "Epoch 4/20\n",
            "873/873 [==============================] - 191s 219ms/step - loss: 0.2384 - accuracy: 0.9026 - val_loss: 0.2067 - val_accuracy: 0.9164\n",
            "Epoch 5/20\n",
            "873/873 [==============================] - 188s 215ms/step - loss: 0.2308 - accuracy: 0.9108 - val_loss: 0.1967 - val_accuracy: 0.9126\n",
            "Epoch 6/20\n",
            "873/873 [==============================] - 182s 208ms/step - loss: 0.2095 - accuracy: 0.9186 - val_loss: 0.1808 - val_accuracy: 0.9368\n",
            "Epoch 7/20\n",
            "873/873 [==============================] - 184s 210ms/step - loss: 0.2024 - accuracy: 0.9197 - val_loss: 0.2377 - val_accuracy: 0.9145\n",
            "Epoch 8/20\n",
            "873/873 [==============================] - 184s 211ms/step - loss: 0.1852 - accuracy: 0.9275 - val_loss: 0.1734 - val_accuracy: 0.9294\n",
            "Epoch 9/20\n",
            "873/873 [==============================] - 187s 214ms/step - loss: 0.1847 - accuracy: 0.9270 - val_loss: 0.1654 - val_accuracy: 0.9368\n",
            "Epoch 10/20\n",
            "873/873 [==============================] - 184s 210ms/step - loss: 0.1976 - accuracy: 0.9229 - val_loss: 0.2812 - val_accuracy: 0.8941\n",
            "Epoch 11/20\n",
            "873/873 [==============================] - 184s 211ms/step - loss: 0.1813 - accuracy: 0.9293 - val_loss: 0.1315 - val_accuracy: 0.9572\n",
            "Epoch 12/20\n",
            "873/873 [==============================] - 186s 213ms/step - loss: 0.1918 - accuracy: 0.9265 - val_loss: 0.1805 - val_accuracy: 0.9201\n",
            "Epoch 13/20\n",
            "873/873 [==============================] - 188s 215ms/step - loss: 0.1721 - accuracy: 0.9361 - val_loss: 0.1426 - val_accuracy: 0.9498\n",
            "Epoch 14/20\n",
            "873/873 [==============================] - 185s 212ms/step - loss: 0.1591 - accuracy: 0.9404 - val_loss: 0.1783 - val_accuracy: 0.9312\n",
            "Epoch 15/20\n",
            "873/873 [==============================] - 184s 210ms/step - loss: 0.1548 - accuracy: 0.9431 - val_loss: 0.1797 - val_accuracy: 0.9145\n",
            "Epoch 16/20\n",
            "873/873 [==============================] - 184s 210ms/step - loss: 0.1589 - accuracy: 0.9395 - val_loss: 0.1511 - val_accuracy: 0.9480\n",
            "Epoch 17/20\n",
            "873/873 [==============================] - 187s 214ms/step - loss: 0.1599 - accuracy: 0.9414 - val_loss: 0.1515 - val_accuracy: 0.9461\n",
            "Epoch 18/20\n",
            "873/873 [==============================] - 183s 209ms/step - loss: 0.1488 - accuracy: 0.9417 - val_loss: 0.1304 - val_accuracy: 0.9535\n",
            "Epoch 19/20\n",
            "873/873 [==============================] - 183s 209ms/step - loss: 0.1439 - accuracy: 0.9456 - val_loss: 0.1174 - val_accuracy: 0.9591\n",
            "Epoch 20/20\n",
            "873/873 [==============================] - 184s 210ms/step - loss: 0.1420 - accuracy: 0.9494 - val_loss: 0.1213 - val_accuracy: 0.9591\n"
          ]
        }
      ],
      "source": [
        "with tf.device('/gpu:0'):\n",
        "  model = Мodel()\n",
        "  history = model.model.fit(train_generator, \n",
        "                      batch_size=batch_size, \n",
        "                      epochs=20,\n",
        "                      validation_data=validation_generator,\n",
        "                      verbose=1)"
      ]
    },
    {
      "cell_type": "code",
      "execution_count": null,
      "metadata": {
        "id": "6TNZvUYCkcGy",
        "colab": {
          "base_uri": "https://localhost:8080/",
          "height": 279
        },
        "outputId": "ab25a83c-1239-435c-9a96-a3cb1ef24cc6"
      },
      "outputs": [
        {
          "output_type": "display_data",
          "data": {
            "text/plain": [
              "<Figure size 432x288 with 1 Axes>"
            ],
            "image/png": "[encoded data removed]"
          },
          "metadata": {
            "needs_background": "light"
          }
        }
      ],
      "source": [
        "plt.grid(True)\n",
        "        label='Доля верных ответов на проверочном наборе')\n",
        "plt.xlabel('Эпоха обучения')\n",
        "plt.ylabel('Доля верных ответов')\n",
        "plt.legend()\n",
        "plt.show()"
      ]
    },
    {
      "cell_type": "code",
      "execution_count": null,
      "metadata": {
        "id": "fStCMtymlFQ0"
      },
      "outputs": [],
      "source": [
        "# model.model.save(directory+\"val_096.h5\")"
      ]
    }
  ],
  "metadata": {
    "accelerator": "GPU",
    "colab": {
      "name": "Первая нейронная сеть.ipynb",
      "provenance": [],
      "collapsed_sections": []
    },
    "kernelspec": {
      "display_name": "Python 3",
      "name": "python3"
    },
    "language_info": {
      "name": "python"
    }
  },
  "nbformat": 4,
  "nbformat_minor": 0
}